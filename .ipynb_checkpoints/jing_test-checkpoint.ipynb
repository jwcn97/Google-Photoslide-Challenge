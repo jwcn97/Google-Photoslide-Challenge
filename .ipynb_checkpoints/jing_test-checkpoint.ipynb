{
 "cells": [
  {
   "cell_type": "code",
   "execution_count": 7,
   "metadata": {},
   "outputs": [
    {
     "name": "stdout",
     "output_type": "stream",
     "text": [
      "   H 16 tm2 tl2 td4 t6 t82 t52 t86 th5 t44 t47 ts2 tc5 tl5 tc4 tf1 tw3\n",
      "0  V  15 tz2 t56 t42 t47 th5 tx4 tp6 t52 tm2 tw3 tw6...               \n",
      "1  H                                  4 t51 tc4 tb5 t61               \n",
      "2  V  13 tq1 tv3 tx1 tn6 t86 tc1 tb7 t72 t52 tw3 tm5...               \n",
      "3  H  13 t47 t53 tl5 t85 tn6 tw3 tq2 t32 th2 t8 tz6 ...               \n",
      "4  V  15 t02 tr2 t52 tp6 th5 t37 ts2 tl5 tn3 t44 th4...               \n"
     ]
    }
   ],
   "source": [
    "import pandas as pd\n",
    "\n",
    "# open file\n",
    "f = open(\"d_pet_pictures.txt\", \"r\")\n",
    "# skips the first line (which just tells us how many pictures there are)\n",
    "next(f)\n",
    "\n",
    "df = pd.read_fwf(f)\n",
    "# df = df[1:]\n",
    "print(df.head())\n",
    "\n",
    "f.close()"
   ]
  }
 ],
 "metadata": {
  "kernelspec": {
   "display_name": "Python 3",
   "language": "python",
   "name": "python3"
  },
  "language_info": {
   "codemirror_mode": {
    "name": "ipython",
    "version": 3
   },
   "file_extension": ".py",
   "mimetype": "text/x-python",
   "name": "python",
   "nbconvert_exporter": "python",
   "pygments_lexer": "ipython3",
   "version": "3.7.3"
  }
 },
 "nbformat": 4,
 "nbformat_minor": 2
}
